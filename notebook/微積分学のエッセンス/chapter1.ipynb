{
 "cells": [
  {
   "cell_type": "markdown",
   "id": "9908b998",
   "metadata": {},
   "source": [
    "例題1.5\n",
    "\\begin{align}\n",
    "& A \\triangle B \\\\\n",
    "&\\iff \\bigl( (x \\in A) \\cap (x \\notin B) \\bigr) \\cup \\bigl( (x \\notin A) \\cap (x \\in B) \\bigr) \\\\\n",
    "&\\iff (A \\cap B^{c}) \\cup (A^{c} \\cap B)\n",
    "\\end{align}"
   ]
  },
  {
   "cell_type": "markdown",
   "id": "d9897125",
   "metadata": {},
   "source": [
    "例題1.6\n",
    "\\begin{align}\n",
    "& A \\setminus B \\\\\n",
    "& \\iff (x \\in A ) \\cap (x \\notin B) \\\\\n",
    "&\\iff A \\cap B^{c}\n",
    "\\end{align}\n"
   ]
  },
  {
   "cell_type": "markdown",
   "id": "9a0f8bca",
   "metadata": {},
   "source": [
    "例題1.7\n",
    "\\begin{align}\n",
    "&\\text{全射であるが単射でない例} \\nonumber \\\\\n",
    "&A = \\{-1, 1\\}, \\quad B = \\{1\\} \\nonumber \\\\\n",
    "&f : A \\to B, \\quad f(x) = x^2 \\nonumber \\\\\n",
    "&f(-1) = 1, \\quad f(1) = 1 \\nonumber \\\\\n",
    "&\\mathrm{Im}(f) = \\{1\\} = B \\quad \\Rightarrow \\quad f \\text{ は全射} \\nonumber \\\\\n",
    "&f(-1) = f(1) \\quad \\Rightarrow \\quad f \\text{ は単射ではない} \\nonumber \\\\[1em]\n",
    "&\\text{単射であるが全射でない例} \\nonumber \\\\\n",
    "&A = \\{1, 2, 3\\}, \\quad B = \\{2, 3, 4, 5\\} \\nonumber \\\\\n",
    "&f : A \\to B, \\quad f(x) = x + 1 \\nonumber \\\\\n",
    "&f(1) = 2, \\quad f(2) = 3, \\quad f(3) = 4 \\nonumber \\\\\n",
    "&\\text{全て異なる} \\quad \\Rightarrow \\quad f \\text{ は単射} \\nonumber \\\\\n",
    "&5 \\in B \\text{ には対応する } a \\in A \\text{ が存在しない} \\nonumber \\\\\n",
    "&\\Rightarrow \\quad f \\text{ は全射ではない} \\nonumber\n",
    "\\end{align}\n"
   ]
  },
  {
   "cell_type": "markdown",
   "id": "b5b16898",
   "metadata": {},
   "source": []
  }
 ],
 "metadata": {
  "kernelspec": {
   "display_name": "Deno",
   "language": "typescript",
   "name": "deno"
  },
  "language_info": {
   "name": "typescript"
  }
 },
 "nbformat": 4,
 "nbformat_minor": 5
}
