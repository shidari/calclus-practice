{
 "cells": [
  {
   "cell_type": "markdown",
   "id": "9908b998",
   "metadata": {},
   "source": [
    "例題1.5\n",
    "\\begin{align}\n",
    "& A \\triangle B \\\\\n",
    "&\\iff \\bigl( (x \\in A) \\cap (x \\notin B) \\bigr) \\cup \\bigl( (x \\notin A) \\cap (x \\in B) \\bigr) \\\\\n",
    "&\\iff (A \\cap B^{c}) \\cup (A^{c} \\cap B)\n",
    "\\end{align}"
   ]
  }
 ],
 "metadata": {
  "kernelspec": {
   "display_name": "Deno",
   "language": "typescript",
   "name": "deno"
  },
  "language_info": {
   "name": "typescript"
  }
 },
 "nbformat": 4,
 "nbformat_minor": 5
}
